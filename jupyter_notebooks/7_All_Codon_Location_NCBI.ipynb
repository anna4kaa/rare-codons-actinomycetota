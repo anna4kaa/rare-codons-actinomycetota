{
 "cells": [
  {
   "cell_type": "code",
   "execution_count": 51,
   "id": "21204aa2-9a7f-411b-b995-5d521ee23d41",
   "metadata": {},
   "outputs": [],
   "source": [
    "import os\n",
    "from Bio import SeqIO\n",
    "import pandas as pd\n",
    "import matplotlib.pyplot as plt\n",
    "from Bio.Data import CodonTable\n",
    "import matplotlib.cm as cm\n",
    "import matplotlib.colors as mcolors\n",
    "import seaborn as sns\n",
    "from tqdm import tqdm  \n",
    "from collections import Counter"
   ]
  },
  {
   "cell_type": "markdown",
   "id": "0b2d9029-209e-451e-8902-61f709bbdd8b",
   "metadata": {},
   "source": [
    "### Overall Codon Counts and Codon Location"
   ]
  },
  {
   "cell_type": "code",
   "execution_count": 52,
   "id": "77912362-cbac-4ab6-ab2c-051d23eb5580",
   "metadata": {},
   "outputs": [
    {
     "name": "stderr",
     "output_type": "stream",
     "text": [
      "Processing Batches: 100%|████████████████| 115/115 [1:19:21<00:00, 41.41s/batch]\n"
     ]
    }
   ],
   "source": [
    "# Define the folder where the GenBank files are located\n",
    "genbank_folder = \"/Users/annasve/Desktop/data/ncbi_genomes/all_genbank/Streptomyces/\"\n",
    "# Define the folder where the results will be saved\n",
    "output_folder = \"/Users/annasve/Desktop/data/ncbi_genomes/analysis/codon_distribution_and_location/Streptomyces/\"\n",
    "\n",
    "# Define the output files\n",
    "overall_codon_count_file = os.path.join(output_folder, \"overall_codon_counts.csv\")\n",
    "strain_codon_count_file = os.path.join(output_folder, \"strain_codon_counts.csv\")\n",
    "codon_position_file = os.path.join(output_folder, \"codon_positions_normalized.csv\")\n",
    "\n",
    "# Initialize codon count dictionary, excluding start and stop codons\n",
    "valid_stop_codons = {\"TAA\", \"TAG\", \"TGA\"}\n",
    "valid_start_codons = {\"ATG\"}  # Start codon\n",
    "\n",
    "# Generate all possible codons, excluding start and stop codons\n",
    "codons = [\n",
    "    f\"{x}{y}{z}\" \n",
    "    for x in \"ATGC\" \n",
    "    for y in \"ATGC\" \n",
    "    for z in \"ATGC\" \n",
    "    if f\"{x}{y}{z}\" not in valid_start_codons and f\"{x}{y}{z}\" not in valid_stop_codons\n",
    "]\n",
    "\n",
    "# Exclude start and stop codons from the overall codon count\n",
    "overall_codon_counts = {codon: 0 for codon in codons}\n",
    "\n",
    "# Initialize strain-specific counts and positions\n",
    "strain_codon_counts = {}\n",
    "organism_info = {}\n",
    "codon_positions = []\n",
    "\n",
    "# Process files in batches for memory efficiency\n",
    "batch_size = 10\n",
    "file_list = [f for f in os.listdir(genbank_folder) if f.endswith(\".gbk\") or f.endswith(\".gbff\")]\n",
    "num_batches = len(file_list) // batch_size + (1 if len(file_list) % batch_size != 0 else 0)\n",
    "\n",
    "for batch_idx in tqdm(range(num_batches), desc=\"Processing Batches\", unit=\"batch\"):\n",
    "    start = batch_idx * batch_size\n",
    "    end = min(start + batch_size, len(file_list))\n",
    "    batch_files = file_list[start:end]\n",
    "    \n",
    "    for file_name in batch_files:\n",
    "        strain = file_name.split('.')[0]  # Use file name as strain ID\n",
    "        file_path = os.path.join(genbank_folder, file_name)\n",
    "        strain_codon_counts[strain] = {codon: 0 for codon in codons}\n",
    "\n",
    "        try:\n",
    "            with open(file_path, \"r\") as file:\n",
    "                for record in SeqIO.parse(file, \"genbank\"):\n",
    "                    # Get organism name\n",
    "                    organism = record.annotations.get(\"organism\", \"Unknown Organism\")\n",
    "                    organism_info[strain] = organism\n",
    "\n",
    "                    for feature in record.features:\n",
    "                        if feature.type == \"CDS\":\n",
    "                            try:\n",
    "                                # Extract the sequence\n",
    "                                sequence = feature.location.extract(record.seq)\n",
    "                                codon_start = int(feature.qualifiers.get(\"codon_start\", [1])[0]) - 1\n",
    "                                coding_sequence = sequence[codon_start:]\n",
    "                                coding_sequence_str = str(coding_sequence).upper()\n",
    "                                \n",
    "                                # Exclude sequences not divisible by 3\n",
    "                                if len(coding_sequence_str) % 3 != 0:\n",
    "                                    continue  # Skip this sequence\n",
    "\n",
    "                                # Break into codons\n",
    "                                codons_in_gene = [\n",
    "                                    coding_sequence_str[i:i+3]\n",
    "                                    for i in range(0, len(coding_sequence_str), 3)\n",
    "                                ]\n",
    "                                \n",
    "                                # Read the first codon (start codon) but do not count it\n",
    "                                start_codon = codons_in_gene.pop(0)\n",
    "\n",
    "                                # Stop counting at the first stop codon\n",
    "                                if any(stop_codon in codons_in_gene for stop_codon in valid_stop_codons):\n",
    "                                    stop_index = next(i for i, codon in enumerate(codons_in_gene) if codon in valid_stop_codons)\n",
    "                                    codons_in_gene = codons_in_gene[:stop_index]\n",
    "\n",
    "                                # Process each codon (excluding start and stop codons)\n",
    "                                gene_length = len(codons_in_gene)\n",
    "                                for i, codon in enumerate(codons_in_gene):\n",
    "                                    if codon in overall_codon_counts:\n",
    "                                        overall_codon_counts[codon] += 1\n",
    "                                        strain_codon_counts[strain][codon] += 1\n",
    "                                        relative_position = (i / gene_length) * 100 if gene_length > 0 else 0\n",
    "                                        codon_positions.append({\n",
    "                                            \"Strain\": strain,\n",
    "                                            \"Gene_ID\": feature.qualifiers.get(\"locus_tag\", [\"unknown\"])[0],\n",
    "                                            \"Codon\": codon,\n",
    "                                            \"Relative_Position\": relative_position\n",
    "                                        })\n",
    "                            except Exception as feature_error:\n",
    "                                print(f\"Error processing feature in {strain}: {feature_error}\")\n",
    "                                continue\n",
    "        except Exception as file_error:\n",
    "            print(f\"Error processing file {file_name}: {file_error}\")\n",
    "\n",
    "        # Save periodically to manage memory\n",
    "        if len(codon_positions) >= 10000:\n",
    "            pd.DataFrame(codon_positions).to_csv(codon_position_file, mode='a', index=False, header=not os.path.exists(codon_position_file))\n",
    "            codon_positions = []\n",
    "\n",
    "# Save remaining codon positions\n",
    "if codon_positions:\n",
    "    pd.DataFrame(codon_positions).to_csv(codon_position_file, mode='a', index=False, header=not os.path.exists(codon_position_file))\n",
    "\n",
    "# Create a DataFrame for overall codon counts\n",
    "total_codons = sum(overall_codon_counts.values())\n",
    "overall_codon_count_data = [\n",
    "    {\"Codon\": codon, \"Count\": count, \"Relative_Representation\": (count / total_codons) * 100}\n",
    "    for codon, count in overall_codon_counts.items()\n",
    "]\n",
    "pd.DataFrame(overall_codon_count_data).to_csv(overall_codon_count_file, index=False)\n",
    "\n",
    "# Create a DataFrame for strain-specific codon counts\n",
    "strain_codon_count_data = []\n",
    "for strain, codon_dict in strain_codon_counts.items():\n",
    "    total_codons = sum(codon_dict.values())\n",
    "    organism = organism_info.get(strain, \"Unknown Organism\")\n",
    "    for codon, count in codon_dict.items():\n",
    "        strain_codon_count_data.append({\n",
    "            \"GCF_ID\": strain,\n",
    "            \"Organism\": organism,\n",
    "            \"Codon\": codon,\n",
    "            \"Count\": count,\n",
    "            \"Relative_Representation (%)\": (count / total_codons * 100) if total_codons > 0 else 0\n",
    "        })\n",
    "pd.DataFrame(strain_codon_count_data).to_csv(strain_codon_count_file, index=False)\n"
   ]
  },
  {
   "cell_type": "markdown",
   "id": "cd5b3d73-dd5d-4c4a-bc9d-a7499d9faf5a",
   "metadata": {},
   "source": [
    "### Read strain_codon_count data"
   ]
  },
  {
   "cell_type": "code",
   "execution_count": 53,
   "id": "646aae4c-3a85-4510-abc9-3a7bdb9308f5",
   "metadata": {},
   "outputs": [],
   "source": [
    "file_path =  \"/Users/annasve/Desktop/data/ncbi_genomes/analysis/codon_distribution_and_location/Streptomyces/strain_codon_counts.csv\"\n",
    "strain_count_data = pd.read_csv(file_path)"
   ]
  },
  {
   "cell_type": "code",
   "execution_count": 54,
   "id": "10091892-66d4-49ca-bc31-752f13464fda",
   "metadata": {},
   "outputs": [],
   "source": [
    "# Remove square brackets from strain names in the \"Organism\" column\n",
    "strain_count_data[\"Organism\"] = strain_count_data[\"Organism\"].str.replace(r\"[\\[\\]]\", \"\", regex=True)\n",
    "\n",
    "# Group organisms by the first two words in the \"Organism\" column\n",
    "strain_count_data[\"Strain\"] = strain_count_data[\"Organism\"].apply(lambda x: \" \".join(x.split()[:2]))"
   ]
  },
  {
   "cell_type": "code",
   "execution_count": 55,
   "id": "15c6a13d-b493-4c2a-bff2-165250544686",
   "metadata": {},
   "outputs": [
    {
     "name": "stdout",
     "output_type": "stream",
     "text": [
      "Pivoted codon counts saved to /Users/annasve/Desktop/data/ncbi_genomes/analysis/codon_distribution_and_location/Streptomyces/pivot_codon_counts_Streptomyces.csv\n"
     ]
    }
   ],
   "source": [
    "# Create a pivot DataFrame: strains as rows, codons as columns\n",
    "pivot_df = strain_count_data.pivot_table(\n",
    "    index=\"GCF_ID\",  # Rows: Strains and Organisms\n",
    "    columns=\"Codon\",  # Columns: Codons\n",
    "    values=\"Relative_Representation (%)\",  # Values: Codon counts\n",
    "    aggfunc=\"sum\"  # Aggregate by sum if multiple entries\n",
    ").fillna(0)  # Fill NaN with 0 for codons not present in a strain\n",
    "\n",
    "# Save the pivot DataFrame to a CSV file\n",
    "pivot_file = os.path.join(output_folder, \"pivot_codon_counts_Streptomyces.csv\")\n",
    "pivot_df.to_csv(pivot_file)\n",
    "\n",
    "print(f\"Pivoted codon counts saved to {pivot_file}\")"
   ]
  },
  {
   "cell_type": "code",
   "execution_count": null,
   "id": "513b142a-7a8b-4db2-84ae-e3eb0a365654",
   "metadata": {},
   "outputs": [],
   "source": []
  },
  {
   "cell_type": "code",
   "execution_count": null,
   "id": "15054732-400e-4301-b887-365f71e55a48",
   "metadata": {},
   "outputs": [],
   "source": []
  },
  {
   "cell_type": "code",
   "execution_count": null,
   "id": "d85d42ab-9880-4432-9abc-ad22b5e01505",
   "metadata": {},
   "outputs": [],
   "source": []
  },
  {
   "cell_type": "code",
   "execution_count": null,
   "id": "ba4632fb-aba5-41de-89b0-3f4aeae26364",
   "metadata": {},
   "outputs": [],
   "source": []
  }
 ],
 "metadata": {
  "kernelspec": {
   "display_name": "Python 3 (ipykernel)",
   "language": "python",
   "name": "python3"
  },
  "language_info": {
   "codemirror_mode": {
    "name": "ipython",
    "version": 3
   },
   "file_extension": ".py",
   "mimetype": "text/x-python",
   "name": "python",
   "nbconvert_exporter": "python",
   "pygments_lexer": "ipython3",
   "version": "3.11.5"
  }
 },
 "nbformat": 4,
 "nbformat_minor": 5
}
