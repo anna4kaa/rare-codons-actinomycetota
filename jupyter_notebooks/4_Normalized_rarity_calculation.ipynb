{
 "cells": [
  {
   "cell_type": "code",
   "execution_count": 233,
   "id": "d5e67d92-ecf0-4c95-869f-324eba8d6974",
   "metadata": {},
   "outputs": [],
   "source": [
    "import pandas as pd\n",
    "import numpy as np\n",
    "import matplotlib.pyplot as plt\n",
    "import os"
   ]
  },
  {
   "cell_type": "code",
   "execution_count": 234,
   "id": "84d0aa7d-4892-4bca-bdd2-f8d9b767d5f6",
   "metadata": {},
   "outputs": [],
   "source": [
    "file_path = '/results/Actinokineospora/codon_positions_normalized.csv'\n",
    "position_df = pd.read_csv(file_path)"
   ]
  },
  {
   "cell_type": "code",
   "execution_count": 235,
   "id": "05497243-9b5d-4de8-91ec-92c74b837690",
   "metadata": {},
   "outputs": [],
   "source": [
    "output_path = '/results/Actinokineospora/'"
   ]
  },
  {
   "cell_type": "code",
   "execution_count": 236,
   "id": "32640dbf-2d56-4846-8ada-13137b8d7053",
   "metadata": {},
   "outputs": [],
   "source": [
    "# Add bins for relative positions (0-9)\n",
    "position_df[\"Position_Bin\"] = (position_df[\"Relative_Position\"] // 10).astype(int)\n",
    "\n",
    "# Count codon occurrences by bins\n",
    "codon_bin_counts = position_df.groupby([\"Codon\", \"Position_Bin\"]).size().unstack(fill_value=0)\n",
    "\n",
    "# Sort codons by overall frequency\n",
    "codon_totals = codon_bin_counts.sum(axis=1).sort_values(ascending=False)\n",
    "codon_bin_counts = codon_bin_counts.loc[codon_totals.index]"
   ]
  },
  {
   "cell_type": "code",
   "execution_count": 237,
   "id": "ea6b0438-edfb-4c95-a053-6b95d70c77b4",
   "metadata": {},
   "outputs": [],
   "source": [
    "# Calculate the total counts for each codon across all bins\n",
    "total_counts = codon_bin_counts.sum(axis=1)  # Total for each codon across all bins\n",
    "\n",
    "# Normalize each value by the total for its codon\n",
    "df_normalized = codon_bin_counts.div(codon_totals, axis=0)  # Proportion for each codon"
   ]
  },
  {
   "cell_type": "code",
   "execution_count": 238,
   "id": "c32bba06-7b95-46c4-a2e7-8bb566b8016f",
   "metadata": {},
   "outputs": [],
   "source": [
    "# Calculate rarity using square root transformation\n",
    "rarity = np.sqrt(1 / total_counts)\n",
    "\n",
    "# Normalize rarity values (min-max scaling)\n",
    "normalized_rarity = (rarity - rarity.min()) / (rarity.max() - rarity.min())"
   ]
  },
  {
   "cell_type": "code",
   "execution_count": 243,
   "id": "040b7dd0-59bf-4419-acfd-bf16bf0312c5",
   "metadata": {},
   "outputs": [],
   "source": [
    "# Combine folder + filename into full path\n",
    "output_path = os.path.join(output_dir, 'df_bins_normalized_Actinokineospora.csv'')\n",
    "# Save CSV\n",
    "df_normalized.to_csv(output_path, index=True)"
   ]
  },
  {
   "cell_type": "code",
   "execution_count": 245,
   "id": "0cf03b28-e824-46c1-a3c0-920d9b48dbea",
   "metadata": {},
   "outputs": [],
   "source": [
    "bin_cols = [str(i) for i in range(10)]  # ensure they are strings\n",
    "\n",
    "# normalized_rarity: pd.Series indexed by Codon from your earlier code\n",
    "df_plot = df_normalized.merge(\n",
    "    normalized_rarity.rename(\"Normalized_Rarity\"),\n",
    "    left_on=\"Codon\", right_index=True, how=\"left\"\n",
    ")\n",
    "# df_plot now has: Codon, Genus, 0..9, Normalized_Rarity  -> ready to plot\n"
   ]
  },
  {
   "cell_type": "code",
   "execution_count": 246,
   "id": "e3f8b871-2a62-428e-9f9e-b5f82979023e",
   "metadata": {},
   "outputs": [],
   "source": [
    "# Combine folder + filename into full path\n",
    "output_path = os.path.join(output_dir, 'df_bins_normalized_plot_Actinokineospora.csv'')\n",
    "# Save CSV\n",
    "df_normalized.to_csv(output_path, index=True)"
   ]
  },
  {
   "cell_type": "code",
   "execution_count": null,
   "id": "f0b33eb3-25d1-4840-be42-6167d80e37fd",
   "metadata": {},
   "outputs": [],
   "source": []
  }
 ],
 "metadata": {
  "kernelspec": {
   "display_name": "Python 3 (ipykernel)",
   "language": "python",
   "name": "python3"
  },
  "language_info": {
   "codemirror_mode": {
    "name": "ipython",
    "version": 3
   },
   "file_extension": ".py",
   "mimetype": "text/x-python",
   "name": "python",
   "nbconvert_exporter": "python",
   "pygments_lexer": "ipython3",
   "version": "3.11.5"
  }
 },
 "nbformat": 4,
 "nbformat_minor": 5
}
